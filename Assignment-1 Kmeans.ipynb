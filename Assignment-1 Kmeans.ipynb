{
 "cells": [
  {
   "cell_type": "markdown",
   "id": "75361854",
   "metadata": {},
   "source": [
    "## Cluster similar Houses"
   ]
  },
  {
   "cell_type": "code",
   "execution_count": 1,
   "id": "5cc6c0dc",
   "metadata": {},
   "outputs": [],
   "source": [
    "import pandas as pd\n",
    "import numpy as np\n",
    "import matplotlib.pyplot as plt\n",
    "import seaborn as sns\n",
    "import warnings\n",
    "warnings.filterwarnings('ignore')"
   ]
  },
  {
   "cell_type": "code",
   "execution_count": 12,
   "id": "76be68b0",
   "metadata": {},
   "outputs": [
    {
     "data": {
      "text/html": [
       "<div>\n",
       "<style scoped>\n",
       "    .dataframe tbody tr th:only-of-type {\n",
       "        vertical-align: middle;\n",
       "    }\n",
       "\n",
       "    .dataframe tbody tr th {\n",
       "        vertical-align: top;\n",
       "    }\n",
       "\n",
       "    .dataframe thead th {\n",
       "        text-align: right;\n",
       "    }\n",
       "</style>\n",
       "<table border=\"1\" class=\"dataframe\">\n",
       "  <thead>\n",
       "    <tr style=\"text-align: right;\">\n",
       "      <th></th>\n",
       "      <th>Sqft</th>\n",
       "      <th>Floor</th>\n",
       "      <th>TotalFloor</th>\n",
       "      <th>Bedroom</th>\n",
       "      <th>Living.Room</th>\n",
       "      <th>Bathroom</th>\n",
       "      <th>Price</th>\n",
       "    </tr>\n",
       "  </thead>\n",
       "  <tbody>\n",
       "    <tr>\n",
       "      <th>1</th>\n",
       "      <td>1177.698</td>\n",
       "      <td>2</td>\n",
       "      <td>7</td>\n",
       "      <td>2</td>\n",
       "      <td>2</td>\n",
       "      <td>2</td>\n",
       "      <td>62000</td>\n",
       "    </tr>\n",
       "    <tr>\n",
       "      <th>2</th>\n",
       "      <td>2134.800</td>\n",
       "      <td>5</td>\n",
       "      <td>7</td>\n",
       "      <td>4</td>\n",
       "      <td>2</td>\n",
       "      <td>2</td>\n",
       "      <td>78000</td>\n",
       "    </tr>\n",
       "    <tr>\n",
       "      <th>3</th>\n",
       "      <td>1138.560</td>\n",
       "      <td>5</td>\n",
       "      <td>7</td>\n",
       "      <td>2</td>\n",
       "      <td>2</td>\n",
       "      <td>1</td>\n",
       "      <td>58000</td>\n",
       "    </tr>\n",
       "    <tr>\n",
       "      <th>4</th>\n",
       "      <td>1458.780</td>\n",
       "      <td>2</td>\n",
       "      <td>7</td>\n",
       "      <td>3</td>\n",
       "      <td>2</td>\n",
       "      <td>2</td>\n",
       "      <td>45000</td>\n",
       "    </tr>\n",
       "    <tr>\n",
       "      <th>5</th>\n",
       "      <td>967.776</td>\n",
       "      <td>11</td>\n",
       "      <td>14</td>\n",
       "      <td>3</td>\n",
       "      <td>2</td>\n",
       "      <td>2</td>\n",
       "      <td>45000</td>\n",
       "    </tr>\n",
       "  </tbody>\n",
       "</table>\n",
       "</div>"
      ],
      "text/plain": [
       "       Sqft  Floor  TotalFloor  Bedroom  Living.Room  Bathroom  Price\n",
       "1  1177.698      2           7        2            2         2  62000\n",
       "2  2134.800      5           7        4            2         2  78000\n",
       "3  1138.560      5           7        2            2         1  58000\n",
       "4  1458.780      2           7        3            2         2  45000\n",
       "5   967.776     11          14        3            2         2  45000"
      ]
     },
     "execution_count": 12,
     "metadata": {},
     "output_type": "execute_result"
    }
   ],
   "source": [
    "# Load the data\n",
    "df = pd.read_csv(\"https://raw.githubusercontent.com/edyoda/data-science-complete-tutorial/master/Data/house_rental_data.csv.txt\", index_col=0)\n",
    "df.head()"
   ]
  },
  {
   "cell_type": "code",
   "execution_count": 13,
   "id": "a569f2e5",
   "metadata": {},
   "outputs": [
    {
     "name": "stdout",
     "output_type": "stream",
     "text": [
      "SHAPE:  (645, 7)\n",
      "*******************************\n",
      "Sqft           False\n",
      "Floor          False\n",
      "TotalFloor     False\n",
      "Bedroom        False\n",
      "Living.Room    False\n",
      "Bathroom       False\n",
      "Price          False\n",
      "dtype: bool\n"
     ]
    }
   ],
   "source": [
    "#Find the shape of the Data\n",
    "print(\"SHAPE: \",df.shape)\n",
    "\n",
    "print('*******************************')\n",
    "\n",
    "# Checking for any missing values\n",
    "print(df.isnull().any())"
   ]
  },
  {
   "cell_type": "code",
   "execution_count": 14,
   "id": "5a82e3db",
   "metadata": {},
   "outputs": [
    {
     "name": "stdout",
     "output_type": "stream",
     "text": [
      "            0         1         2         3     4    5         6\n",
      "0    0.148867  0.047619  0.162162  0.166667  0.50  0.4  0.229192\n",
      "1    0.322977  0.190476  0.162162  0.500000  0.50  0.4  0.294793\n",
      "2    0.141748  0.190476  0.162162  0.166667  0.50  0.2  0.212792\n",
      "3    0.200000  0.047619  0.162162  0.333333  0.50  0.4  0.159492\n",
      "4    0.110680  0.476190  0.351351  0.333333  0.50  0.4  0.159492\n",
      "..        ...       ...       ...       ...   ...  ...       ...\n",
      "640  0.181877  0.285714  0.378378  0.333333  0.50  0.4  0.159492\n",
      "641  0.003236  0.142857  0.243243  0.000000  0.25  0.2  0.076671\n",
      "642  0.069256  0.571429  0.351351  0.000000  0.25  0.2  0.159492\n",
      "643  0.245307  0.095238  0.351351  0.333333  0.50  0.4  0.241492\n",
      "644  0.185113  0.238095  0.162162  0.333333  0.50  0.2  0.122591\n",
      "\n",
      "[645 rows x 7 columns]\n"
     ]
    }
   ],
   "source": [
    "# Data cleaning & getting rid of irrelevant information before clustering \n",
    "from sklearn.preprocessing import  MinMaxScaler\n",
    "\n",
    "scaler = MinMaxScaler()\n",
    "df_scaled = scaler.fit_transform(df)\n",
    "print(pd.DataFrame(df_scaled))\n"
   ]
  },
  {
   "cell_type": "code",
   "execution_count": 15,
   "id": "fde9864f",
   "metadata": {},
   "outputs": [
    {
     "data": {
      "image/png": "[encoded data removed]",
      "text/plain": [
       "<Figure size 640x480 with 1 Axes>"
      ]
     },
     "metadata": {},
     "output_type": "display_data"
    }
   ],
   "source": [
    "# Finding the optimal value of k\n",
    "from sklearn.cluster import KMeans\n",
    "\n",
    "wcss = []\n",
    "for i in range(1, 11):\n",
    "    kmeans = KMeans(n_clusters=i, init='k-means++', max_iter=300, n_init=10, random_state=0)\n",
    "    kmeans.fit(df_scaled)\n",
    "    wcss.append(kmeans.inertia_)\n",
    "plt.plot(range(1, 11), wcss)\n",
    "plt.title('Elbow Method')\n",
    "plt.xlabel('Number of clusters')\n",
    "plt.ylabel('WCSS')\n",
    "plt.show()\n",
    "\n"
   ]
  },
  {
   "cell_type": "code",
   "execution_count": 19,
   "id": "31045dd3",
   "metadata": {},
   "outputs": [
    {
     "name": "stdout",
     "output_type": "stream",
     "text": [
      "       Sqft  Floor  TotalFloor  Bedroom  Living.Room  Bathroom  Price  Cluster\n",
      "1  1177.698      2           7        2            2         2  62000        2\n",
      "2  2134.800      5           7        4            2         2  78000        2\n",
      "3  1138.560      5           7        2            2         1  58000        1\n",
      "4  1458.780      2           7        3            2         2  45000        2\n",
      "5   967.776     11          14        3            2         2  45000        2\n",
      "******************************************************************************************\n",
      "                Sqft     Floor  TotalFloor   Bedroom  Living.Room  Bathroom  \\\n",
      "Cluster                                                                       \n",
      "0        2514.386952  9.879032   16.064516  3.516129     2.048387  2.451613   \n",
      "1         812.732283  6.211957   10.141304  1.668478     1.369565  1.048913   \n",
      "2        1554.930463  4.341246    9.329377  3.225519     1.970326  1.991098   \n",
      "\n",
      "                 Price  \n",
      "Cluster                 \n",
      "0        109697.580645  \n",
      "1         38091.271739  \n",
      "2         57478.359050  \n"
     ]
    }
   ],
   "source": [
    "# Storing cluster to which the house belongs along with the data\n",
    "# As the Optimal K from the above chart is 3\n",
    "kmeans = KMeans(n_clusters=3, init='k-means++', max_iter=300, n_init=10, random_state=0)\n",
    "kmeans.fit(df_scaled)\n",
    "\n",
    "df['Cluster'] = kmeans.labels_\n",
    "print(df.head())\n",
    "print(\"*\"*90)\n",
    "print(df.groupby('Cluster').mean())\n"
   ]
  },
  {
   "cell_type": "code",
   "execution_count": null,
   "id": "98c75103",
   "metadata": {},
   "outputs": [],
   "source": []
  }
 ],
 "metadata": {
  "kernelspec": {
   "display_name": "Python 3 (ipykernel)",
   "language": "python",
   "name": "python3"
  },
  "language_info": {
   "codemirror_mode": {
    "name": "ipython",
    "version": 3
   },
   "file_extension": ".py",
   "mimetype": "text/x-python",
   "name": "python",
   "nbconvert_exporter": "python",
   "pygments_lexer": "ipython3",
   "version": "3.9.13"
  }
 },
 "nbformat": 4,
 "nbformat_minor": 5
}
